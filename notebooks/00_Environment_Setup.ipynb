{
 "cells": [
  {
   "cell_type": "markdown",
   "metadata": {},
   "source": [
    "# Introduction"
   ]
  },
  {
   "cell_type": "markdown",
   "metadata": {},
   "source": [
    "This notebook installs some dependencies that are needed to run the evaluation experiments."
   ]
  },
  {
   "cell_type": "markdown",
   "metadata": {},
   "source": [
    "# Setup"
   ]
  },
  {
   "cell_type": "markdown",
   "metadata": {},
   "source": [
    "Navigate to project's root directory:"
   ]
  },
  {
   "cell_type": "code",
   "execution_count": 1,
   "metadata": {},
   "outputs": [
    {
     "name": "stdout",
     "output_type": "stream",
     "text": [
      "/tmp/sigir_2016_counterfactual_eval\n"
     ]
    }
   ],
   "source": [
    "%cd .."
   ]
  },
  {
   "cell_type": "markdown",
   "metadata": {},
   "source": [
    "# System Info"
   ]
  },
  {
   "cell_type": "markdown",
   "metadata": {},
   "source": [
    "Check OS version, python version and current Anaconda environment:"
   ]
  },
  {
   "cell_type": "code",
   "execution_count": 2,
   "metadata": {},
   "outputs": [
    {
     "name": "stdout",
     "output_type": "stream",
     "text": [
      "Distributor ID:\tUbuntu\n",
      "Description:\tUbuntu 18.04.3 LTS\n",
      "Release:\t18.04\n",
      "Codename:\tbionic\n"
     ]
    },
    {
     "name": "stderr",
     "output_type": "stream",
     "text": [
      "No LSB modules are available.\n"
     ]
    }
   ],
   "source": [
    "%%sh\n",
    "sudo lsb_release --all"
   ]
  },
  {
   "cell_type": "code",
   "execution_count": 3,
   "metadata": {},
   "outputs": [
    {
     "name": "stderr",
     "output_type": "stream",
     "text": [
      "Python 3.6.5 :: Anaconda, Inc.\n"
     ]
    }
   ],
   "source": [
    "%%sh\n",
    "python -V"
   ]
  },
  {
   "cell_type": "code",
   "execution_count": 4,
   "metadata": {},
   "outputs": [
    {
     "name": "stdout",
     "output_type": "stream",
     "text": [
      "# conda environments:\n",
      "#\n",
      "base                     /home/ubuntu/anaconda3\n",
      "chainer_p27              /home/ubuntu/anaconda3/envs/chainer_p27\n",
      "chainer_p36              /home/ubuntu/anaconda3/envs/chainer_p36\n",
      "mxnet_p27                /home/ubuntu/anaconda3/envs/mxnet_p27\n",
      "mxnet_p36                /home/ubuntu/anaconda3/envs/mxnet_p36\n",
      "python2                  /home/ubuntu/anaconda3/envs/python2\n",
      "python3               *  /home/ubuntu/anaconda3/envs/python3\n",
      "pytorch_p27              /home/ubuntu/anaconda3/envs/pytorch_p27\n",
      "pytorch_p36              /home/ubuntu/anaconda3/envs/pytorch_p36\n",
      "tensorflow_p27           /home/ubuntu/anaconda3/envs/tensorflow_p27\n",
      "tensorflow_p36           /home/ubuntu/anaconda3/envs/tensorflow_p36\n",
      "\n"
     ]
    }
   ],
   "source": [
    "%%sh\n",
    "conda info --envs"
   ]
  },
  {
   "cell_type": "markdown",
   "metadata": {
    "pycharm": {
     "name": "#%%\n"
    }
   },
   "source": [
    "# Dependencies"
   ]
  },
  {
   "cell_type": "markdown",
   "metadata": {},
   "source": [
    "Install some packages to get the plot to work:"
   ]
  },
  {
   "cell_type": "code",
   "execution_count": 5,
   "metadata": {},
   "outputs": [
    {
     "name": "stdout",
     "output_type": "stream",
     "text": [
      "Reading package lists...\n",
      "Building dependency tree...\n",
      "Reading state information...\n",
      "dvipng is already the newest version (1.15-1).\n",
      "texlive-fonts-extra is already the newest version (2017.20180305-2).\n",
      "texlive-fonts-recommended is already the newest version (2017.20180305-1).\n",
      "The following packages were automatically installed and are no longer required:\n",
      "  libaio1 librados2 librbd1\n",
      "Use 'sudo apt autoremove' to remove them.\n",
      "0 upgraded, 0 newly installed, 0 to remove and 20 not upgraded.\n"
     ]
    },
    {
     "name": "stderr",
     "output_type": "stream",
     "text": [
      "\n",
      "WARNING: apt does not have a stable CLI interface. Use with caution in scripts.\n",
      "\n"
     ]
    }
   ],
   "source": [
    "%%sh\n",
    "sudo apt install -y texlive-fonts-recommended texlive-fonts-extra dvipng"
   ]
  },
  {
   "cell_type": "markdown",
   "metadata": {},
   "source": [
    "Install some older python packages (from 2016) so that code will run:"
   ]
  },
  {
   "cell_type": "code",
   "execution_count": 6,
   "metadata": {},
   "outputs": [
    {
     "name": "stdout",
     "output_type": "stream",
     "text": [
      "Requirement already satisfied: alabaster==0.7.10 in /home/ubuntu/anaconda3/envs/python3/lib/python3.6/site-packages (from -r requirements.txt (line 1)) (0.7.10)\n",
      "Requirement already satisfied: anaconda-client==1.6.14 in /home/ubuntu/anaconda3/envs/python3/lib/python3.6/site-packages (from -r requirements.txt (line 2)) (1.6.14)\n",
      "Requirement already satisfied: anaconda-project==0.8.2 in /home/ubuntu/anaconda3/envs/python3/lib/python3.6/site-packages (from -r requirements.txt (line 3)) (0.8.2)\n",
      "Requirement already satisfied: asn1crypto==0.24.0 in /home/ubuntu/anaconda3/envs/python3/lib/python3.6/site-packages (from -r requirements.txt (line 4)) (0.24.0)\n",
      "Requirement already satisfied: astroid==1.6.3 in /home/ubuntu/anaconda3/envs/python3/lib/python3.6/site-packages (from -r requirements.txt (line 5)) (1.6.3)\n",
      "Requirement already satisfied: astropy==3.0.2 in /home/ubuntu/anaconda3/envs/python3/lib/python3.6/site-packages (from -r requirements.txt (line 6)) (3.0.2)\n",
      "Requirement already satisfied: attrs==18.1.0 in /home/ubuntu/anaconda3/envs/python3/lib/python3.6/site-packages (from -r requirements.txt (line 7)) (18.1.0)\n",
      "Requirement already satisfied: Automat==0.3.0 in /home/ubuntu/anaconda3/envs/python3/lib/python3.6/site-packages (from -r requirements.txt (line 8)) (0.3.0)\n",
      "Requirement already satisfied: autovizwidget==0.13.1 in /home/ubuntu/anaconda3/envs/python3/lib/python3.6/site-packages (from -r requirements.txt (line 9)) (0.13.1)\n",
      "Requirement already satisfied: Babel==2.5.3 in /home/ubuntu/anaconda3/envs/python3/lib/python3.6/site-packages (from -r requirements.txt (line 10)) (2.5.3)\n",
      "Requirement already satisfied: backcall==0.1.0 in /home/ubuntu/anaconda3/envs/python3/lib/python3.6/site-packages (from -r requirements.txt (line 11)) (0.1.0)\n",
      "Requirement already satisfied: backports.shutil-get-terminal-size==1.0.0 in /home/ubuntu/anaconda3/envs/python3/lib/python3.6/site-packages (from -r requirements.txt (line 12)) (1.0.0)\n",
      "Requirement already satisfied: bcrypt==3.1.7 in /home/ubuntu/anaconda3/envs/python3/lib/python3.6/site-packages (from -r requirements.txt (line 13)) (3.1.7)\n",
      "Requirement already satisfied: beautifulsoup4==4.6.0 in /home/ubuntu/anaconda3/envs/python3/lib/python3.6/site-packages (from -r requirements.txt (line 14)) (4.6.0)\n",
      "Requirement already satisfied: bitarray==0.8.1 in /home/ubuntu/anaconda3/envs/python3/lib/python3.6/site-packages (from -r requirements.txt (line 15)) (0.8.1)\n",
      "Requirement already satisfied: bkcharts==0.2 in /home/ubuntu/anaconda3/envs/python3/lib/python3.6/site-packages (from -r requirements.txt (line 16)) (0.2)\n",
      "Requirement already satisfied: blaze==0.11.3 in /home/ubuntu/anaconda3/envs/python3/lib/python3.6/site-packages (from -r requirements.txt (line 17)) (0.11.3)\n",
      "Requirement already satisfied: bleach==2.1.3 in /home/ubuntu/anaconda3/envs/python3/lib/python3.6/site-packages (from -r requirements.txt (line 18)) (2.1.3)\n",
      "Requirement already satisfied: bokeh==1.0.4 in /home/ubuntu/anaconda3/envs/python3/lib/python3.6/site-packages (from -r requirements.txt (line 19)) (1.0.4)\n",
      "Requirement already satisfied: boto==2.48.0 in /home/ubuntu/anaconda3/envs/python3/lib/python3.6/site-packages (from -r requirements.txt (line 20)) (2.48.0)\n",
      "Requirement already satisfied: boto3==1.9.251 in /home/ubuntu/anaconda3/envs/python3/lib/python3.6/site-packages (from -r requirements.txt (line 21)) (1.9.251)\n",
      "Requirement already satisfied: botocore==1.12.251 in /home/ubuntu/anaconda3/envs/python3/lib/python3.6/site-packages (from -r requirements.txt (line 22)) (1.12.251)\n",
      "Requirement already satisfied: Bottleneck==1.2.1 in /home/ubuntu/anaconda3/envs/python3/lib/python3.6/site-packages (from -r requirements.txt (line 23)) (1.2.1)\n",
      "Requirement already satisfied: cached-property==1.5.1 in /home/ubuntu/anaconda3/envs/python3/lib/python3.6/site-packages (from -r requirements.txt (line 24)) (1.5.1)\n",
      "Requirement already satisfied: certifi==2019.9.11 in /home/ubuntu/anaconda3/envs/python3/lib/python3.6/site-packages (from -r requirements.txt (line 25)) (2019.9.11)\n",
      "Requirement already satisfied: cffi==1.11.5 in /home/ubuntu/anaconda3/envs/python3/lib/python3.6/site-packages (from -r requirements.txt (line 26)) (1.11.5)\n",
      "Requirement already satisfied: characteristic==14.3.0 in /home/ubuntu/anaconda3/envs/python3/lib/python3.6/site-packages (from -r requirements.txt (line 27)) (14.3.0)\n",
      "Requirement already satisfied: chardet==3.0.4 in /home/ubuntu/anaconda3/envs/python3/lib/python3.6/site-packages (from -r requirements.txt (line 28)) (3.0.4)\n",
      "Requirement already satisfied: click==6.7 in /home/ubuntu/anaconda3/envs/python3/lib/python3.6/site-packages (from -r requirements.txt (line 29)) (6.7)\n",
      "Requirement already satisfied: cloudpickle==0.5.3 in /home/ubuntu/anaconda3/envs/python3/lib/python3.6/site-packages (from -r requirements.txt (line 30)) (0.5.3)\n",
      "Requirement already satisfied: clyent==1.2.2 in /home/ubuntu/anaconda3/envs/python3/lib/python3.6/site-packages (from -r requirements.txt (line 31)) (1.2.2)\n",
      "Requirement already satisfied: colorama==0.3.9 in /home/ubuntu/anaconda3/envs/python3/lib/python3.6/site-packages (from -r requirements.txt (line 32)) (0.3.9)\n",
      "Requirement already satisfied: contextlib2==0.5.5 in /home/ubuntu/anaconda3/envs/python3/lib/python3.6/site-packages (from -r requirements.txt (line 33)) (0.5.5)\n",
      "Requirement already satisfied: cryptography==2.7 in /home/ubuntu/anaconda3/envs/python3/lib/python3.6/site-packages (from -r requirements.txt (line 34)) (2.7)\n",
      "Requirement already satisfied: cycler==0.10.0 in /home/ubuntu/anaconda3/envs/python3/lib/python3.6/site-packages (from -r requirements.txt (line 35)) (0.10.0)\n",
      "Requirement already satisfied: Cython==0.28.4 in /home/ubuntu/anaconda3/envs/python3/lib/python3.6/site-packages (from -r requirements.txt (line 36)) (0.28.4)\n",
      "Requirement already satisfied: cytoolz==0.9.0.1 in /home/ubuntu/anaconda3/envs/python3/lib/python3.6/site-packages (from -r requirements.txt (line 37)) (0.9.0.1)\n",
      "Requirement already satisfied: dask==0.17.5 in /home/ubuntu/anaconda3/envs/python3/lib/python3.6/site-packages (from -r requirements.txt (line 38)) (0.17.5)\n",
      "Requirement already satisfied: datashape==0.5.4 in /home/ubuntu/anaconda3/envs/python3/lib/python3.6/site-packages (from -r requirements.txt (line 39)) (0.5.4)\n",
      "Requirement already satisfied: decorator==4.3.0 in /home/ubuntu/anaconda3/envs/python3/lib/python3.6/site-packages (from -r requirements.txt (line 40)) (4.3.0)\n",
      "Requirement already satisfied: defusedxml==0.6.0 in /home/ubuntu/anaconda3/envs/python3/lib/python3.6/site-packages (from -r requirements.txt (line 41)) (0.6.0)\n",
      "Requirement already satisfied: distributed==1.21.8 in /home/ubuntu/anaconda3/envs/python3/lib/python3.6/site-packages (from -r requirements.txt (line 42)) (1.21.8)\n",
      "Requirement already satisfied: docker==3.7.3 in /home/ubuntu/anaconda3/envs/python3/lib/python3.6/site-packages (from -r requirements.txt (line 43)) (3.7.3)\n",
      "Requirement already satisfied: docker-compose==1.24.1 in /home/ubuntu/anaconda3/envs/python3/lib/python3.6/site-packages (from -r requirements.txt (line 44)) (1.24.1)\n",
      "Requirement already satisfied: docker-pycreds==0.4.0 in /home/ubuntu/anaconda3/envs/python3/lib/python3.6/site-packages (from -r requirements.txt (line 45)) (0.4.0)\n",
      "Requirement already satisfied: dockerpty==0.4.1 in /home/ubuntu/anaconda3/envs/python3/lib/python3.6/site-packages (from -r requirements.txt (line 46)) (0.4.1)\n",
      "Requirement already satisfied: docopt==0.6.2 in /home/ubuntu/anaconda3/envs/python3/lib/python3.6/site-packages (from -r requirements.txt (line 47)) (0.6.2)\n",
      "Requirement already satisfied: docutils==0.14 in /home/ubuntu/anaconda3/envs/python3/lib/python3.6/site-packages (from -r requirements.txt (line 48)) (0.14)\n",
      "Requirement already satisfied: entrypoints==0.2.3 in /home/ubuntu/anaconda3/envs/python3/lib/python3.6/site-packages (from -r requirements.txt (line 49)) (0.2.3)\n",
      "Requirement already satisfied: environment-kernels==1.1.1 in /home/ubuntu/anaconda3/envs/python3/lib/python3.6/site-packages (from -r requirements.txt (line 50)) (1.1.1)\n",
      "Requirement already satisfied: et-xmlfile==1.0.1 in /home/ubuntu/anaconda3/envs/python3/lib/python3.6/site-packages (from -r requirements.txt (line 51)) (1.0.1)\n",
      "Requirement already satisfied: fabric==2.5.0 in /home/ubuntu/anaconda3/envs/python3/lib/python3.6/site-packages (from -r requirements.txt (line 52)) (2.5.0)\n",
      "Requirement already satisfied: fastcache==1.0.2 in /home/ubuntu/anaconda3/envs/python3/lib/python3.6/site-packages (from -r requirements.txt (line 53)) (1.0.2)\n",
      "Requirement already satisfied: filelock==3.0.4 in /home/ubuntu/anaconda3/envs/python3/lib/python3.6/site-packages (from -r requirements.txt (line 54)) (3.0.4)\n",
      "Requirement already satisfied: Flask==1.0.2 in /home/ubuntu/anaconda3/envs/python3/lib/python3.6/site-packages (from -r requirements.txt (line 55)) (1.0.2)\n",
      "Requirement already satisfied: Flask-Cors==3.0.4 in /home/ubuntu/anaconda3/envs/python3/lib/python3.6/site-packages (from -r requirements.txt (line 56)) (3.0.4)\n",
      "Requirement already satisfied: gevent==1.3.0 in /home/ubuntu/anaconda3/envs/python3/lib/python3.6/site-packages (from -r requirements.txt (line 57)) (1.3.0)\n",
      "Requirement already satisfied: glob2==0.6 in /home/ubuntu/anaconda3/envs/python3/lib/python3.6/site-packages (from -r requirements.txt (line 58)) (0.6)\n",
      "Requirement already satisfied: gmpy2==2.0.8 in /home/ubuntu/anaconda3/envs/python3/lib/python3.6/site-packages (from -r requirements.txt (line 59)) (2.0.8)\n",
      "Requirement already satisfied: greenlet==0.4.13 in /home/ubuntu/anaconda3/envs/python3/lib/python3.6/site-packages (from -r requirements.txt (line 60)) (0.4.13)\n",
      "Requirement already satisfied: h5py==2.8.0 in /home/ubuntu/anaconda3/envs/python3/lib/python3.6/site-packages (from -r requirements.txt (line 61)) (2.8.0)\n",
      "Requirement already satisfied: hdijupyterutils==0.13.1 in /home/ubuntu/anaconda3/envs/python3/lib/python3.6/site-packages (from -r requirements.txt (line 62)) (0.13.1)\n",
      "Requirement already satisfied: heapdict==1.0.0 in /home/ubuntu/anaconda3/envs/python3/lib/python3.6/site-packages (from -r requirements.txt (line 63)) (1.0.0)\n",
      "Requirement already satisfied: html5lib==1.0.1 in /home/ubuntu/anaconda3/envs/python3/lib/python3.6/site-packages (from -r requirements.txt (line 64)) (1.0.1)\n",
      "Requirement already satisfied: idna==2.6 in /home/ubuntu/anaconda3/envs/python3/lib/python3.6/site-packages (from -r requirements.txt (line 65)) (2.6)\n",
      "Requirement already satisfied: imageio==2.3.0 in /home/ubuntu/anaconda3/envs/python3/lib/python3.6/site-packages (from -r requirements.txt (line 66)) (2.3.0)\n",
      "Requirement already satisfied: imagesize==1.0.0 in /home/ubuntu/anaconda3/envs/python3/lib/python3.6/site-packages (from -r requirements.txt (line 67)) (1.0.0)\n",
      "Requirement already satisfied: invoke==1.3.0 in /home/ubuntu/anaconda3/envs/python3/lib/python3.6/site-packages (from -r requirements.txt (line 68)) (1.3.0)\n",
      "Requirement already satisfied: ipykernel==4.8.2 in /home/ubuntu/anaconda3/envs/python3/lib/python3.6/site-packages (from -r requirements.txt (line 69)) (4.8.2)\n",
      "Requirement already satisfied: ipyparallel==6.2.2 in /home/ubuntu/anaconda3/envs/python3/lib/python3.6/site-packages (from -r requirements.txt (line 70)) (6.2.2)\n",
      "Requirement already satisfied: ipython==6.4.0 in /home/ubuntu/anaconda3/envs/python3/lib/python3.6/site-packages (from -r requirements.txt (line 71)) (6.4.0)\n",
      "Requirement already satisfied: ipython-genutils==0.2.0 in /home/ubuntu/anaconda3/envs/python3/lib/python3.6/site-packages (from -r requirements.txt (line 72)) (0.2.0)\n",
      "Requirement already satisfied: ipywidgets==7.4.0 in /home/ubuntu/anaconda3/envs/python3/lib/python3.6/site-packages (from -r requirements.txt (line 73)) (7.4.0)\n",
      "Requirement already satisfied: isort==4.3.4 in /home/ubuntu/anaconda3/envs/python3/lib/python3.6/site-packages (from -r requirements.txt (line 74)) (4.3.4)\n",
      "Requirement already satisfied: itsdangerous==0.24 in /home/ubuntu/anaconda3/envs/python3/lib/python3.6/site-packages (from -r requirements.txt (line 75)) (0.24)\n",
      "Requirement already satisfied: jdcal==1.4 in /home/ubuntu/anaconda3/envs/python3/lib/python3.6/site-packages (from -r requirements.txt (line 76)) (1.4)\n",
      "Requirement already satisfied: jedi==0.12.0 in /home/ubuntu/anaconda3/envs/python3/lib/python3.6/site-packages (from -r requirements.txt (line 77)) (0.12.0)\n",
      "Requirement already satisfied: Jinja2==2.10 in /home/ubuntu/anaconda3/envs/python3/lib/python3.6/site-packages (from -r requirements.txt (line 78)) (2.10)\n",
      "Requirement already satisfied: jmespath==0.9.4 in /home/ubuntu/anaconda3/envs/python3/lib/python3.6/site-packages (from -r requirements.txt (line 79)) (0.9.4)\n",
      "Requirement already satisfied: joblib==0.13.2 in /home/ubuntu/anaconda3/envs/python3/lib/python3.6/site-packages (from -r requirements.txt (line 80)) (0.13.2)\n",
      "Requirement already satisfied: jsonschema==2.6.0 in /home/ubuntu/anaconda3/envs/python3/lib/python3.6/site-packages (from -r requirements.txt (line 81)) (2.6.0)\n",
      "Requirement already satisfied: jupyter==1.0.0 in /home/ubuntu/anaconda3/envs/python3/lib/python3.6/site-packages (from -r requirements.txt (line 82)) (1.0.0)\n",
      "Requirement already satisfied: jupyter-client==5.2.3 in /home/ubuntu/anaconda3/envs/python3/lib/python3.6/site-packages (from -r requirements.txt (line 83)) (5.2.3)\n",
      "Requirement already satisfied: jupyter-console==5.2.0 in /home/ubuntu/anaconda3/envs/python3/lib/python3.6/site-packages (from -r requirements.txt (line 84)) (5.2.0)\n",
      "Requirement already satisfied: jupyter-core==4.4.0 in /home/ubuntu/anaconda3/envs/python3/lib/python3.6/site-packages (from -r requirements.txt (line 85)) (4.4.0)\n",
      "Requirement already satisfied: jupyterlab==0.32.1 in /home/ubuntu/anaconda3/envs/python3/lib/python3.6/site-packages (from -r requirements.txt (line 86)) (0.32.1)\n",
      "Requirement already satisfied: jupyterlab-launcher==0.10.5 in /home/ubuntu/anaconda3/envs/python3/lib/python3.6/site-packages (from -r requirements.txt (line 87)) (0.10.5)\n",
      "Requirement already satisfied: kiwisolver==1.0.1 in /home/ubuntu/anaconda3/envs/python3/lib/python3.6/site-packages (from -r requirements.txt (line 88)) (1.0.1)\n",
      "Requirement already satisfied: lazy-object-proxy==1.3.1 in /home/ubuntu/anaconda3/envs/python3/lib/python3.6/site-packages (from -r requirements.txt (line 89)) (1.3.1)\n",
      "Requirement already satisfied: llvmlite==0.23.1 in /home/ubuntu/anaconda3/envs/python3/lib/python3.6/site-packages (from -r requirements.txt (line 90)) (0.23.1)\n",
      "Requirement already satisfied: locket==0.2.0 in /home/ubuntu/anaconda3/envs/python3/lib/python3.6/site-packages (from -r requirements.txt (line 91)) (0.2.0)\n",
      "Requirement already satisfied: lxml==4.2.1 in /home/ubuntu/anaconda3/envs/python3/lib/python3.6/site-packages (from -r requirements.txt (line 92)) (4.2.1)\n",
      "Requirement already satisfied: MarkupSafe==1.0 in /home/ubuntu/anaconda3/envs/python3/lib/python3.6/site-packages (from -r requirements.txt (line 93)) (1.0)\n",
      "Requirement already satisfied: matplotlib==3.0.3 in /home/ubuntu/anaconda3/envs/python3/lib/python3.6/site-packages (from -r requirements.txt (line 94)) (3.0.3)\n",
      "Requirement already satisfied: mccabe==0.6.1 in /home/ubuntu/anaconda3/envs/python3/lib/python3.6/site-packages (from -r requirements.txt (line 95)) (0.6.1)\n",
      "Requirement already satisfied: mistune==0.8.3 in /home/ubuntu/anaconda3/envs/python3/lib/python3.6/site-packages (from -r requirements.txt (line 96)) (0.8.3)\n",
      "Requirement already satisfied: mkl-fft==1.0.0 in /home/ubuntu/anaconda3/envs/python3/lib/python3.6/site-packages (from -r requirements.txt (line 97)) (1.0.0)\n",
      "Requirement already satisfied: mkl-random==1.0.1 in /home/ubuntu/anaconda3/envs/python3/lib/python3.6/site-packages (from -r requirements.txt (line 98)) (1.0.1)\n",
      "Requirement already satisfied: mock==3.0.5 in /home/ubuntu/anaconda3/envs/python3/lib/python3.6/site-packages (from -r requirements.txt (line 99)) (3.0.5)\n",
      "Requirement already satisfied: more-itertools==4.1.0 in /home/ubuntu/anaconda3/envs/python3/lib/python3.6/site-packages (from -r requirements.txt (line 100)) (4.1.0)\n",
      "Requirement already satisfied: mpmath==1.0.0 in /home/ubuntu/anaconda3/envs/python3/lib/python3.6/site-packages (from -r requirements.txt (line 101)) (1.0.0)\n",
      "Requirement already satisfied: msgpack==0.6.0 in /home/ubuntu/anaconda3/envs/python3/lib/python3.6/site-packages (from -r requirements.txt (line 102)) (0.6.0)\n",
      "Requirement already satisfied: msgpack-python==0.5.6 in /home/ubuntu/anaconda3/envs/python3/lib/python3.6/site-packages (from -r requirements.txt (line 103)) (0.5.6)\n",
      "Requirement already satisfied: multipledispatch==0.5.0 in /home/ubuntu/anaconda3/envs/python3/lib/python3.6/site-packages (from -r requirements.txt (line 104)) (0.5.0)\n",
      "Requirement already satisfied: nb-conda==2.2.1 in /home/ubuntu/anaconda3/envs/python3/lib/python3.6/site-packages (from -r requirements.txt (line 105)) (2.2.1)\n",
      "Requirement already satisfied: nb-conda-kernels==2.2.2 in /home/ubuntu/anaconda3/envs/python3/lib/python3.6/site-packages (from -r requirements.txt (line 106)) (2.2.2)\n",
      "Requirement already satisfied: nbconvert==5.4.1 in /home/ubuntu/anaconda3/envs/python3/lib/python3.6/site-packages (from -r requirements.txt (line 107)) (5.4.1)\n",
      "Requirement already satisfied: nbformat==4.4.0 in /home/ubuntu/anaconda3/envs/python3/lib/python3.6/site-packages (from -r requirements.txt (line 108)) (4.4.0)\n",
      "Requirement already satisfied: networkx==2.1 in /home/ubuntu/anaconda3/envs/python3/lib/python3.6/site-packages (from -r requirements.txt (line 109)) (2.1)\n",
      "Requirement already satisfied: nltk==3.3 in /home/ubuntu/anaconda3/envs/python3/lib/python3.6/site-packages (from -r requirements.txt (line 110)) (3.3)\n",
      "Requirement already satisfied: nose==1.3.7 in /home/ubuntu/anaconda3/envs/python3/lib/python3.6/site-packages (from -r requirements.txt (line 111)) (1.3.7)\n",
      "Requirement already satisfied: notebook==5.5.0 in /home/ubuntu/anaconda3/envs/python3/lib/python3.6/site-packages (from -r requirements.txt (line 112)) (5.5.0)\n",
      "Requirement already satisfied: numba==0.38.0 in /home/ubuntu/anaconda3/envs/python3/lib/python3.6/site-packages (from -r requirements.txt (line 113)) (0.38.0)\n",
      "Requirement already satisfied: numexpr==2.6.5 in /home/ubuntu/anaconda3/envs/python3/lib/python3.6/site-packages (from -r requirements.txt (line 114)) (2.6.5)\n",
      "Requirement already satisfied: numpy==1.17.0 in /home/ubuntu/anaconda3/envs/python3/lib/python3.6/site-packages (from -r requirements.txt (line 115)) (1.17.0)\n",
      "Requirement already satisfied: numpydoc==0.8.0 in /home/ubuntu/anaconda3/envs/python3/lib/python3.6/site-packages (from -r requirements.txt (line 116)) (0.8.0)\n",
      "Requirement already satisfied: odo==0.5.1 in /home/ubuntu/anaconda3/envs/python3/lib/python3.6/site-packages (from -r requirements.txt (line 117)) (0.5.1)\n",
      "Requirement already satisfied: olefile==0.45.1 in /home/ubuntu/anaconda3/envs/python3/lib/python3.6/site-packages (from -r requirements.txt (line 118)) (0.45.1)\n",
      "Requirement already satisfied: openpyxl==2.5.3 in /home/ubuntu/anaconda3/envs/python3/lib/python3.6/site-packages (from -r requirements.txt (line 119)) (2.5.3)\n",
      "Requirement already satisfied: packaging==17.1 in /home/ubuntu/anaconda3/envs/python3/lib/python3.6/site-packages (from -r requirements.txt (line 120)) (17.1)\n",
      "Requirement already satisfied: pandas==0.24.2 in /home/ubuntu/anaconda3/envs/python3/lib/python3.6/site-packages (from -r requirements.txt (line 121)) (0.24.2)\n",
      "Requirement already satisfied: pandocfilters==1.4.2 in /home/ubuntu/anaconda3/envs/python3/lib/python3.6/site-packages (from -r requirements.txt (line 122)) (1.4.2)\n",
      "Requirement already satisfied: paramiko==2.6.0 in /home/ubuntu/anaconda3/envs/python3/lib/python3.6/site-packages (from -r requirements.txt (line 123)) (2.6.0)\n",
      "Requirement already satisfied: parso==0.2.0 in /home/ubuntu/anaconda3/envs/python3/lib/python3.6/site-packages (from -r requirements.txt (line 124)) (0.2.0)\n",
      "Requirement already satisfied: partd==0.3.8 in /home/ubuntu/anaconda3/envs/python3/lib/python3.6/site-packages (from -r requirements.txt (line 125)) (0.3.8)\n",
      "Requirement already satisfied: path.py==11.0.1 in /home/ubuntu/anaconda3/envs/python3/lib/python3.6/site-packages (from -r requirements.txt (line 126)) (11.0.1)\n",
      "Requirement already satisfied: pathlib2==2.3.2 in /home/ubuntu/anaconda3/envs/python3/lib/python3.6/site-packages (from -r requirements.txt (line 127)) (2.3.2)\n",
      "Requirement already satisfied: patsy==0.5.0 in /home/ubuntu/anaconda3/envs/python3/lib/python3.6/site-packages (from -r requirements.txt (line 128)) (0.5.0)\n",
      "Requirement already satisfied: pep8==1.7.1 in /home/ubuntu/anaconda3/envs/python3/lib/python3.6/site-packages (from -r requirements.txt (line 129)) (1.7.1)\n",
      "Requirement already satisfied: pexpect==4.5.0 in /home/ubuntu/anaconda3/envs/python3/lib/python3.6/site-packages (from -r requirements.txt (line 130)) (4.5.0)\n",
      "Requirement already satisfied: pickleshare==0.7.4 in /home/ubuntu/anaconda3/envs/python3/lib/python3.6/site-packages (from -r requirements.txt (line 131)) (0.7.4)\n",
      "Requirement already satisfied: Pillow==5.2.0 in /home/ubuntu/anaconda3/envs/python3/lib/python3.6/site-packages (from -r requirements.txt (line 132)) (5.2.0)\n",
      "Requirement already satisfied: pkginfo==1.4.2 in /home/ubuntu/anaconda3/envs/python3/lib/python3.6/site-packages (from -r requirements.txt (line 133)) (1.4.2)\n",
      "Requirement already satisfied: plotly==4.2.0 in /home/ubuntu/anaconda3/envs/python3/lib/python3.6/site-packages (from -r requirements.txt (line 134)) (4.2.0)\n",
      "Requirement already satisfied: pluggy==0.6.0 in /home/ubuntu/anaconda3/envs/python3/lib/python3.6/site-packages (from -r requirements.txt (line 135)) (0.6.0)\n",
      "Requirement already satisfied: ply==3.11 in /home/ubuntu/anaconda3/envs/python3/lib/python3.6/site-packages (from -r requirements.txt (line 136)) (3.11)\n",
      "Requirement already satisfied: prompt-toolkit==1.0.15 in /home/ubuntu/anaconda3/envs/python3/lib/python3.6/site-packages (from -r requirements.txt (line 137)) (1.0.15)\n",
      "Requirement already satisfied: protobuf==3.6.1 in /home/ubuntu/anaconda3/envs/python3/lib/python3.6/site-packages (from -r requirements.txt (line 138)) (3.6.1)\n",
      "Requirement already satisfied: protobuf3-to-dict==0.1.5 in /home/ubuntu/anaconda3/envs/python3/lib/python3.6/site-packages (from -r requirements.txt (line 139)) (0.1.5)\n",
      "Requirement already satisfied: psutil==5.4.5 in /home/ubuntu/anaconda3/envs/python3/lib/python3.6/site-packages (from -r requirements.txt (line 140)) (5.4.5)\n",
      "Requirement already satisfied: psycopg2==2.7.5 in /home/ubuntu/anaconda3/envs/python3/lib/python3.6/site-packages (from -r requirements.txt (line 141)) (2.7.5)\n",
      "Requirement already satisfied: ptyprocess==0.5.2 in /home/ubuntu/anaconda3/envs/python3/lib/python3.6/site-packages (from -r requirements.txt (line 142)) (0.5.2)\n",
      "Requirement already satisfied: py==1.5.3 in /home/ubuntu/anaconda3/envs/python3/lib/python3.6/site-packages (from -r requirements.txt (line 143)) (1.5.3)\n",
      "Requirement already satisfied: py4j==0.10.7 in /home/ubuntu/anaconda3/envs/python3/lib/python3.6/site-packages (from -r requirements.txt (line 144)) (0.10.7)\n",
      "Requirement already satisfied: pycodestyle==2.4.0 in /home/ubuntu/anaconda3/envs/python3/lib/python3.6/site-packages (from -r requirements.txt (line 145)) (2.4.0)\n",
      "Requirement already satisfied: pycosat==0.6.3 in /home/ubuntu/anaconda3/envs/python3/lib/python3.6/site-packages (from -r requirements.txt (line 146)) (0.6.3)\n",
      "Requirement already satisfied: pycparser==2.18 in /home/ubuntu/anaconda3/envs/python3/lib/python3.6/site-packages (from -r requirements.txt (line 147)) (2.18)\n",
      "Requirement already satisfied: pycrypto==2.6.1 in /home/ubuntu/anaconda3/envs/python3/lib/python3.6/site-packages (from -r requirements.txt (line 148)) (2.6.1)\n",
      "Requirement already satisfied: pycurl==7.43.0.1 in /home/ubuntu/anaconda3/envs/python3/lib/python3.6/site-packages (from -r requirements.txt (line 149)) (7.43.0.1)\n",
      "Requirement already satisfied: pyflakes==1.6.0 in /home/ubuntu/anaconda3/envs/python3/lib/python3.6/site-packages (from -r requirements.txt (line 150)) (1.6.0)\n",
      "Requirement already satisfied: pygal==2.4.0 in /home/ubuntu/anaconda3/envs/python3/lib/python3.6/site-packages (from -r requirements.txt (line 151)) (2.4.0)\n",
      "Requirement already satisfied: Pygments==2.2.0 in /home/ubuntu/anaconda3/envs/python3/lib/python3.6/site-packages (from -r requirements.txt (line 152)) (2.2.0)\n",
      "Requirement already satisfied: pykerberos==1.2.1 in /home/ubuntu/anaconda3/envs/python3/lib/python3.6/site-packages (from -r requirements.txt (line 153)) (1.2.1)\n",
      "Requirement already satisfied: pylint==1.8.4 in /home/ubuntu/anaconda3/envs/python3/lib/python3.6/site-packages (from -r requirements.txt (line 154)) (1.8.4)\n",
      "Requirement already satisfied: PyNaCl==1.3.0 in /home/ubuntu/anaconda3/envs/python3/lib/python3.6/site-packages (from -r requirements.txt (line 155)) (1.3.0)\n",
      "Requirement already satisfied: pyodbc==4.0.23 in /home/ubuntu/anaconda3/envs/python3/lib/python3.6/site-packages (from -r requirements.txt (line 156)) (4.0.23)\n",
      "Requirement already satisfied: pyOpenSSL==18.0.0 in /home/ubuntu/anaconda3/envs/python3/lib/python3.6/site-packages (from -r requirements.txt (line 157)) (18.0.0)\n",
      "Requirement already satisfied: pyparsing==2.2.0 in /home/ubuntu/anaconda3/envs/python3/lib/python3.6/site-packages (from -r requirements.txt (line 158)) (2.2.0)\n",
      "Requirement already satisfied: PySocks==1.6.8 in /home/ubuntu/anaconda3/envs/python3/lib/python3.6/site-packages (from -r requirements.txt (line 159)) (1.6.8)\n",
      "Requirement already satisfied: pyspark==2.3.2 in /home/ubuntu/anaconda3/envs/python3/lib/python3.6/site-packages (from -r requirements.txt (line 160)) (2.3.2)\n",
      "Requirement already satisfied: pytest==3.5.1 in /home/ubuntu/anaconda3/envs/python3/lib/python3.6/site-packages (from -r requirements.txt (line 161)) (3.5.1)\n",
      "Requirement already satisfied: pytest-arraydiff==0.2 in /home/ubuntu/anaconda3/envs/python3/lib/python3.6/site-packages (from -r requirements.txt (line 162)) (0.2)\n",
      "Requirement already satisfied: pytest-astropy==0.3.0 in /home/ubuntu/anaconda3/envs/python3/lib/python3.6/site-packages (from -r requirements.txt (line 163)) (0.3.0)\n",
      "Requirement already satisfied: pytest-doctestplus==0.1.3 in /home/ubuntu/anaconda3/envs/python3/lib/python3.6/site-packages (from -r requirements.txt (line 164)) (0.1.3)\n",
      "Requirement already satisfied: pytest-openfiles==0.3.0 in /home/ubuntu/anaconda3/envs/python3/lib/python3.6/site-packages (from -r requirements.txt (line 165)) (0.3.0)\n",
      "Requirement already satisfied: pytest-remotedata==0.2.1 in /home/ubuntu/anaconda3/envs/python3/lib/python3.6/site-packages (from -r requirements.txt (line 166)) (0.2.1)\n",
      "Requirement already satisfied: python-dateutil==2.7.3 in /home/ubuntu/anaconda3/envs/python3/lib/python3.6/site-packages (from -r requirements.txt (line 167)) (2.7.3)\n",
      "Requirement already satisfied: pytz==2018.4 in /home/ubuntu/anaconda3/envs/python3/lib/python3.6/site-packages (from -r requirements.txt (line 168)) (2018.4)\n",
      "Requirement already satisfied: PyWavelets==0.5.2 in /home/ubuntu/anaconda3/envs/python3/lib/python3.6/site-packages (from -r requirements.txt (line 169)) (0.5.2)\n",
      "Requirement already satisfied: PyYAML==3.12 in /home/ubuntu/anaconda3/envs/python3/lib/python3.6/site-packages (from -r requirements.txt (line 170)) (3.12)\n",
      "Requirement already satisfied: pyzmq==17.0.0 in /home/ubuntu/anaconda3/envs/python3/lib/python3.6/site-packages (from -r requirements.txt (line 171)) (17.0.0)\n",
      "Requirement already satisfied: QtAwesome==0.4.4 in /home/ubuntu/anaconda3/envs/python3/lib/python3.6/site-packages (from -r requirements.txt (line 172)) (0.4.4)\n",
      "Requirement already satisfied: qtconsole==4.3.1 in /home/ubuntu/anaconda3/envs/python3/lib/python3.6/site-packages (from -r requirements.txt (line 173)) (4.3.1)\n",
      "Requirement already satisfied: QtPy==1.4.1 in /home/ubuntu/anaconda3/envs/python3/lib/python3.6/site-packages (from -r requirements.txt (line 174)) (1.4.1)\n",
      "Requirement already satisfied: requests==2.20.0 in /home/ubuntu/anaconda3/envs/python3/lib/python3.6/site-packages (from -r requirements.txt (line 175)) (2.20.0)\n",
      "Requirement already satisfied: requests-kerberos==0.12.0 in /home/ubuntu/anaconda3/envs/python3/lib/python3.6/site-packages (from -r requirements.txt (line 176)) (0.12.0)\n",
      "Requirement already satisfied: retrying==1.3.3 in /home/ubuntu/anaconda3/envs/python3/lib/python3.6/site-packages (from -r requirements.txt (line 177)) (1.3.3)\n",
      "Requirement already satisfied: rope==0.10.7 in /home/ubuntu/anaconda3/envs/python3/lib/python3.6/site-packages (from -r requirements.txt (line 178)) (0.10.7)\n",
      "Requirement already satisfied: ruamel-yaml==0.15.35 in /home/ubuntu/anaconda3/envs/python3/lib/python3.6/site-packages (from -r requirements.txt (line 179)) (0.15.35)\n",
      "Requirement already satisfied: s3fs==0.1.5 in /home/ubuntu/anaconda3/envs/python3/lib/python3.6/site-packages (from -r requirements.txt (line 180)) (0.1.5)\n",
      "Requirement already satisfied: s3transfer==0.2.1 in /home/ubuntu/anaconda3/envs/python3/lib/python3.6/site-packages (from -r requirements.txt (line 181)) (0.2.1)\n",
      "Requirement already satisfied: sagemaker==1.43.0 in /home/ubuntu/anaconda3/envs/python3/lib/python3.6/site-packages (from -r requirements.txt (line 182)) (1.43.0)\n",
      "Requirement already satisfied: sagemaker-pyspark==1.2.5 in /home/ubuntu/anaconda3/envs/python3/lib/python3.6/site-packages (from -r requirements.txt (line 183)) (1.2.5)\n",
      "Requirement already satisfied: scikit-image==0.13.1 in /home/ubuntu/anaconda3/envs/python3/lib/python3.6/site-packages (from -r requirements.txt (line 184)) (0.13.1)\n",
      "Requirement already satisfied: scikit-learn==0.17.1 in /home/ubuntu/anaconda3/envs/python3/lib/python3.6/site-packages (from -r requirements.txt (line 185)) (0.17.1)\n",
      "Requirement already satisfied: scipy==1.1.0 in /home/ubuntu/anaconda3/envs/python3/lib/python3.6/site-packages (from -r requirements.txt (line 186)) (1.1.0)\n",
      "Requirement already satisfied: seaborn==0.8.1 in /home/ubuntu/anaconda3/envs/python3/lib/python3.6/site-packages (from -r requirements.txt (line 187)) (0.8.1)\n",
      "Requirement already satisfied: Send2Trash==1.5.0 in /home/ubuntu/anaconda3/envs/python3/lib/python3.6/site-packages (from -r requirements.txt (line 188)) (1.5.0)\n",
      "Requirement already satisfied: simplegeneric==0.8.1 in /home/ubuntu/anaconda3/envs/python3/lib/python3.6/site-packages (from -r requirements.txt (line 189)) (0.8.1)\n",
      "Requirement already satisfied: singledispatch==3.4.0.3 in /home/ubuntu/anaconda3/envs/python3/lib/python3.6/site-packages (from -r requirements.txt (line 190)) (3.4.0.3)\n",
      "Requirement already satisfied: six==1.11.0 in /home/ubuntu/anaconda3/envs/python3/lib/python3.6/site-packages (from -r requirements.txt (line 191)) (1.11.0)\n",
      "Requirement already satisfied: snowballstemmer==1.2.1 in /home/ubuntu/anaconda3/envs/python3/lib/python3.6/site-packages (from -r requirements.txt (line 192)) (1.2.1)\n",
      "Requirement already satisfied: sortedcollections==0.6.1 in /home/ubuntu/anaconda3/envs/python3/lib/python3.6/site-packages (from -r requirements.txt (line 193)) (0.6.1)\n",
      "Requirement already satisfied: sortedcontainers==1.5.10 in /home/ubuntu/anaconda3/envs/python3/lib/python3.6/site-packages (from -r requirements.txt (line 194)) (1.5.10)\n",
      "Requirement already satisfied: sparkmagic==0.12.5 in /home/ubuntu/anaconda3/envs/python3/lib/python3.6/site-packages (from -r requirements.txt (line 195)) (0.12.5)\n",
      "Requirement already satisfied: Sphinx==1.7.4 in /home/ubuntu/anaconda3/envs/python3/lib/python3.6/site-packages (from -r requirements.txt (line 196)) (1.7.4)\n",
      "Requirement already satisfied: sphinxcontrib-websupport==1.0.1 in /home/ubuntu/anaconda3/envs/python3/lib/python3.6/site-packages (from -r requirements.txt (line 197)) (1.0.1)\n",
      "Requirement already satisfied: spyder==3.2.8 in /home/ubuntu/anaconda3/envs/python3/lib/python3.6/site-packages (from -r requirements.txt (line 198)) (3.2.8)\n",
      "Requirement already satisfied: SQLAlchemy==1.2.11 in /home/ubuntu/anaconda3/envs/python3/lib/python3.6/site-packages (from -r requirements.txt (line 199)) (1.2.11)\n",
      "Requirement already satisfied: statsmodels==0.9.0 in /home/ubuntu/anaconda3/envs/python3/lib/python3.6/site-packages (from -r requirements.txt (line 200)) (0.9.0)\n",
      "Requirement already satisfied: sympy==1.1.1 in /home/ubuntu/anaconda3/envs/python3/lib/python3.6/site-packages (from -r requirements.txt (line 201)) (1.1.1)\n",
      "Requirement already satisfied: tables==3.4.3 in /home/ubuntu/anaconda3/envs/python3/lib/python3.6/site-packages (from -r requirements.txt (line 202)) (3.4.3)\n",
      "Requirement already satisfied: tblib==1.3.2 in /home/ubuntu/anaconda3/envs/python3/lib/python3.6/site-packages (from -r requirements.txt (line 203)) (1.3.2)\n",
      "Requirement already satisfied: terminado==0.8.1 in /home/ubuntu/anaconda3/envs/python3/lib/python3.6/site-packages (from -r requirements.txt (line 204)) (0.8.1)\n",
      "Requirement already satisfied: testpath==0.3.1 in /home/ubuntu/anaconda3/envs/python3/lib/python3.6/site-packages (from -r requirements.txt (line 205)) (0.3.1)\n",
      "Requirement already satisfied: texttable==0.9.1 in /home/ubuntu/anaconda3/envs/python3/lib/python3.6/site-packages (from -r requirements.txt (line 206)) (0.9.1)\n",
      "Requirement already satisfied: toolz==0.9.0 in /home/ubuntu/anaconda3/envs/python3/lib/python3.6/site-packages (from -r requirements.txt (line 207)) (0.9.0)\n",
      "Requirement already satisfied: tornado==5.0.2 in /home/ubuntu/anaconda3/envs/python3/lib/python3.6/site-packages (from -r requirements.txt (line 208)) (5.0.2)\n",
      "Requirement already satisfied: traitlets==4.3.2 in /home/ubuntu/anaconda3/envs/python3/lib/python3.6/site-packages (from -r requirements.txt (line 209)) (4.3.2)\n",
      "Requirement already satisfied: typing==3.6.4 in /home/ubuntu/anaconda3/envs/python3/lib/python3.6/site-packages (from -r requirements.txt (line 210)) (3.6.4)\n",
      "Requirement already satisfied: unicodecsv==0.14.1 in /home/ubuntu/anaconda3/envs/python3/lib/python3.6/site-packages (from -r requirements.txt (line 211)) (0.14.1)\n",
      "Requirement already satisfied: urllib3==1.23 in /home/ubuntu/anaconda3/envs/python3/lib/python3.6/site-packages (from -r requirements.txt (line 212)) (1.23)\n",
      "Requirement already satisfied: wcwidth==0.1.7 in /home/ubuntu/anaconda3/envs/python3/lib/python3.6/site-packages (from -r requirements.txt (line 213)) (0.1.7)\n",
      "Requirement already satisfied: webencodings==0.5.1 in /home/ubuntu/anaconda3/envs/python3/lib/python3.6/site-packages (from -r requirements.txt (line 214)) (0.5.1)\n",
      "Requirement already satisfied: websocket-client==0.56.0 in /home/ubuntu/anaconda3/envs/python3/lib/python3.6/site-packages (from -r requirements.txt (line 215)) (0.56.0)\n",
      "Requirement already satisfied: Werkzeug==0.14.1 in /home/ubuntu/anaconda3/envs/python3/lib/python3.6/site-packages (from -r requirements.txt (line 216)) (0.14.1)\n",
      "Requirement already satisfied: widgetsnbextension==3.4.2 in /home/ubuntu/anaconda3/envs/python3/lib/python3.6/site-packages (from -r requirements.txt (line 217)) (3.4.2)\n",
      "Requirement already satisfied: wrapt==1.10.11 in /home/ubuntu/anaconda3/envs/python3/lib/python3.6/site-packages (from -r requirements.txt (line 218)) (1.10.11)\n",
      "Requirement already satisfied: xlrd==1.1.0 in /home/ubuntu/anaconda3/envs/python3/lib/python3.6/site-packages (from -r requirements.txt (line 219)) (1.1.0)\n",
      "Requirement already satisfied: XlsxWriter==1.0.4 in /home/ubuntu/anaconda3/envs/python3/lib/python3.6/site-packages (from -r requirements.txt (line 220)) (1.0.4)\n",
      "Requirement already satisfied: xlwt==1.3.0 in /home/ubuntu/anaconda3/envs/python3/lib/python3.6/site-packages (from -r requirements.txt (line 221)) (1.3.0)\n",
      "Requirement already satisfied: zict==0.1.3 in /home/ubuntu/anaconda3/envs/python3/lib/python3.6/site-packages (from -r requirements.txt (line 222)) (0.1.3)\n",
      "Requirement already satisfied: setuptools in /home/ubuntu/anaconda3/envs/python3/lib/python3.6/site-packages (from anaconda-client==1.6.14->-r requirements.txt (line 2)) (39.1.0)\n"
     ]
    },
    {
     "name": "stderr",
     "output_type": "stream",
     "text": [
      "You are using pip version 10.0.1, however version 19.3.1 is available.\n",
      "You should consider upgrading via the 'pip install --upgrade pip' command.\n"
     ]
    }
   ],
   "source": [
    "%%sh\n",
    "pip install -r requirements.txt"
   ]
  }
 ],
 "metadata": {
  "kernelspec": {
   "display_name": "Python 3",
   "language": "python",
   "name": "python3"
  },
  "language_info": {
   "codemirror_mode": {
    "name": "ipython",
    "version": 3
   },
   "file_extension": ".py",
   "mimetype": "text/x-python",
   "name": "python",
   "nbconvert_exporter": "python",
   "pygments_lexer": "ipython3",
   "version": "3.6.5"
  },
  "pycharm": {
   "stem_cell": {
    "cell_type": "raw",
    "metadata": {
     "collapsed": false
    },
    "source": []
   }
  }
 },
 "nbformat": 4,
 "nbformat_minor": 1
}
